{
 "cells": [
  {
   "cell_type": "markdown",
   "id": "851f4c47",
   "metadata": {},
   "source": [
    "In this notebook we do a brief exploratory analysis for the POGOH data from April 2025 and report our findings."
   ]
  },
  {
   "cell_type": "code",
   "execution_count": 1,
   "id": "abd45837",
   "metadata": {},
   "outputs": [],
   "source": [
    "import pandas as pd\n",
    "\n",
    "# Define the file path\n",
    "file_path = \"/home/manuel/Documents/AI/pogoh-ai-engineering/data/raw/april-2025.xlsx\"\n",
    "\n",
    "# Load the Excel file into a DataFrame\n",
    "pogoh_df = pd.read_excel(file_path)"
   ]
  },
  {
   "cell_type": "markdown",
   "id": "1d29d663",
   "metadata": {},
   "source": [
    "We display some basic information about the dataset. The April dataset has 47523 observations and includes the columns\n",
    "\n",
    "* Closed Status\n",
    "* Duration\n",
    "* Start Station Id\n",
    "* Start Date\n",
    "* Start Station Name\n",
    "* End Date\n",
    "* End Station Id\n",
    "* End Station Name\n",
    "* Rider type"
   ]
  },
  {
   "cell_type": "code",
   "execution_count": 3,
   "id": "9958afd1",
   "metadata": {},
   "outputs": [
    {
     "name": "stdout",
     "output_type": "stream",
     "text": [
      "<class 'pandas.core.frame.DataFrame'>\n",
      "RangeIndex: 47523 entries, 0 to 47522\n",
      "Data columns (total 9 columns):\n",
      " #   Column              Non-Null Count  Dtype         \n",
      "---  ------              --------------  -----         \n",
      " 0   Closed Status       47523 non-null  object        \n",
      " 1   Duration            47523 non-null  int64         \n",
      " 2   Start Station Id    47523 non-null  int64         \n",
      " 3   Start Date          47523 non-null  datetime64[ns]\n",
      " 4   Start Station Name  47523 non-null  object        \n",
      " 5   End Date            47523 non-null  datetime64[ns]\n",
      " 6   End Station Id      47497 non-null  float64       \n",
      " 7   End Station Name    47497 non-null  object        \n",
      " 8   Rider Type          47523 non-null  object        \n",
      "dtypes: datetime64[ns](2), float64(1), int64(2), object(4)\n",
      "memory usage: 3.3+ MB\n",
      "None\n",
      "  Closed Status  Duration  Start Station Id          Start Date  \\\n",
      "0        NORMAL       412                33 2025-04-30 23:58:19   \n",
      "1        NORMAL       179                34 2025-04-30 23:58:06   \n",
      "2        NORMAL      1060                13 2025-04-30 23:48:29   \n",
      "3        NORMAL      1173                13 2025-04-30 23:46:30   \n",
      "4        NORMAL       394                26 2025-04-30 23:45:03   \n",
      "\n",
      "                         Start Station Name            End Date  \\\n",
      "0             Schenley Dr & Schenley Dr Ext 2025-05-01 00:05:11   \n",
      "1               N Dithridge St & Centre Ave 2025-05-01 00:01:05   \n",
      "2                S Bouquet Ave & Sennott St 2025-05-01 00:06:09   \n",
      "3                S Bouquet Ave & Sennott St 2025-05-01 00:06:03   \n",
      "4  S 27th St & Sidney St. (Southside Works) 2025-04-30 23:51:37   \n",
      "\n",
      "   End Station Id                     End Station Name Rider Type  \n",
      "0            33.0        Schenley Dr & Schenley Dr Ext     MEMBER  \n",
      "1            59.0  Forbes Ave at TCS Hall (CMU Campus)     MEMBER  \n",
      "2            34.0          N Dithridge St & Centre Ave     MEMBER  \n",
      "3            34.0          N Dithridge St & Centre Ave     MEMBER  \n",
      "4            50.0                 Atwood St & Bates St     MEMBER  \n"
     ]
    }
   ],
   "source": [
    "# Display basic info and the first few rows\n",
    "print(pogoh_df.info())\n",
    "print(pogoh_df.head())"
   ]
  },
  {
   "cell_type": "markdown",
   "id": "f86b7255",
   "metadata": {},
   "source": [
    "According to what we see, the variables have the following types:\n",
    "\n",
    "* Closed Status: String\n",
    "* Duration: Integer\n",
    "* Start Station Id: Integer\n",
    "* Start Date: Time variable\n",
    "* Start Station Name: String\n",
    "* End Date: Time variable\n",
    "* End Station Id: Integer\n",
    "* End Station Name: String\n",
    "* Rider type: String"
   ]
  },
  {
   "cell_type": "code",
   "execution_count": 4,
   "id": "aab4d6fc",
   "metadata": {},
   "outputs": [
    {
     "name": "stdout",
     "output_type": "stream",
     "text": [
      "=== Summary Statistics ===\n",
      "            Duration  Start Station Id                     Start Date  \\\n",
      "count   47523.000000      47523.000000                          47523   \n",
      "mean      790.384277         27.519054  2025-04-17 09:21:29.784861952   \n",
      "min         0.000000          1.000000            2025-04-01 00:02:47   \n",
      "25%       222.000000         13.000000     2025-04-10 11:12:25.500000   \n",
      "50%       381.000000         27.000000            2025-04-18 12:28:52   \n",
      "75%       821.000000         38.000000     2025-04-24 15:46:15.500000   \n",
      "max    200129.000000         60.000000            2025-04-30 23:58:19   \n",
      "std      2694.794272         15.400083                            NaN   \n",
      "\n",
      "                            End Date  End Station Id  \n",
      "count                          47523    47497.000000  \n",
      "mean   2025-04-17 09:34:40.169139200       27.335411  \n",
      "min              2025-04-01 00:11:08        1.000000  \n",
      "25%              2025-04-10 11:22:42       13.000000  \n",
      "50%              2025-04-18 12:49:28       26.000000  \n",
      "75%              2025-04-24 15:59:18       38.000000  \n",
      "max              2025-05-01 12:16:04       60.000000  \n",
      "std                              NaN       15.479131  \n",
      "\n",
      "=== Unique Value Counts ===\n",
      "Closed Status             4\n",
      "Duration               3937\n",
      "Start Station Id         60\n",
      "Start Date            46684\n",
      "Start Station Name       60\n",
      "End Date              46559\n",
      "End Station Id           60\n",
      "End Station Name         60\n",
      "Rider Type                2\n",
      "dtype: int64\n",
      "\n",
      "=== Missing Values ===\n",
      "Closed Status          0\n",
      "Duration               0\n",
      "Start Station Id       0\n",
      "Start Date             0\n",
      "Start Station Name     0\n",
      "End Date               0\n",
      "End Station Id        26\n",
      "End Station Name      26\n",
      "Rider Type             0\n",
      "dtype: int64\n"
     ]
    }
   ],
   "source": [
    "# Summary statistics for numeric columns\n",
    "summary_stats = pogoh_df.describe()\n",
    "\n",
    "# Count of unique values per column\n",
    "unique_counts = pogoh_df.nunique()\n",
    "\n",
    "# Count of missing values per column\n",
    "missing_values = pogoh_df.isnull().sum()\n",
    "\n",
    "# Print outputs\n",
    "print(\"=== Summary Statistics ===\")\n",
    "print(summary_stats)\n",
    "\n",
    "print(\"\\n=== Unique Value Counts ===\")\n",
    "print(unique_counts)\n",
    "\n",
    "print(\"\\n=== Missing Values ===\")\n",
    "print(missing_values)"
   ]
  },
  {
   "cell_type": "markdown",
   "id": "9a4e5c61",
   "metadata": {},
   "source": [
    "Here are some observations from the initial look at the data:\n",
    "\n",
    "- We notice that the duration of the trips is measured in seconds.\n",
    "- From the unique IDs, there were 60 POGOH stations (at least in this timeframe).\n",
    "- Start Station and End Station list the name of the POGOH stations as a string, usually the streets where they're located.\n",
    "- Closed status has 4 possible values: Normal, Grace Period, Terminated and Force closed.\n",
    "- Rider type has only two possible values: Member and Casual."
   ]
  },
  {
   "cell_type": "code",
   "execution_count": 7,
   "id": "7463877f",
   "metadata": {},
   "outputs": [
    {
     "name": "stdout",
     "output_type": "stream",
     "text": [
      "\n",
      "=== Closed Status Distribution ===\n",
      "Closed Status\n",
      "NORMAL           46703\n",
      "GRACE_PERIOD       720\n",
      "TERMINATED          62\n",
      "FORCED_CLOSED       38\n",
      "Name: count, dtype: int64\n",
      "\n",
      "=== Rider Type Distribution ===\n",
      "Rider Type\n",
      "MEMBER    44399\n",
      "CASUAL     3124\n",
      "Name: count, dtype: int64\n"
     ]
    }
   ],
   "source": [
    "# Value counts for key categorical variables\n",
    "closed_status_counts = pogoh_df[\"Closed Status\"].value_counts()\n",
    "rider_type_counts = pogoh_df[\"Rider Type\"].value_counts()\n",
    "\n",
    "\n",
    "print(\"\\n=== Closed Status Distribution ===\")\n",
    "print(closed_status_counts)\n",
    "\n",
    "print(\"\\n=== Rider Type Distribution ===\")\n",
    "print(rider_type_counts)"
   ]
  },
  {
   "cell_type": "markdown",
   "id": "331f702c",
   "metadata": {},
   "source": [
    "It might be of interest to learn the specifics about how they do the classification for closed status of each trip and also the distinction between rider types."
   ]
  }
 ],
 "metadata": {
  "kernelspec": {
   "display_name": "pogoh_ai",
   "language": "python",
   "name": "python3"
  },
  "language_info": {
   "codemirror_mode": {
    "name": "ipython",
    "version": 3
   },
   "file_extension": ".py",
   "mimetype": "text/x-python",
   "name": "python",
   "nbconvert_exporter": "python",
   "pygments_lexer": "ipython3",
   "version": "3.11.12"
  }
 },
 "nbformat": 4,
 "nbformat_minor": 5
}
