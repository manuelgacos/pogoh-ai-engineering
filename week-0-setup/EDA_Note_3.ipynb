{
 "cells": [
  {
   "cell_type": "markdown",
   "id": "ccc1467f",
   "metadata": {},
   "source": [
    "# Initial data cleaning (Part 2)\n",
    "\n",
    "In this notebook we do some data cleaning for a small portion of the POGOH dataset, this will give some ideas on how to proceed for dealing with the data at a larger scale.\n",
    "\n",
    "__NOTE:__ In this dataset there were some NaN observations in End Station Id and End Station Name, and because of this the ID column is read as a float instead of integer. We handle this issue in this notebook."
   ]
  },
  {
   "cell_type": "code",
   "execution_count": 1,
   "id": "a7972bab",
   "metadata": {},
   "outputs": [
    {
     "name": "stdout",
     "output_type": "stream",
     "text": [
      "<class 'pandas.core.frame.DataFrame'>\n",
      "RangeIndex: 47523 entries, 0 to 47522\n",
      "Data columns (total 9 columns):\n",
      " #   Column              Non-Null Count  Dtype         \n",
      "---  ------              --------------  -----         \n",
      " 0   Closed Status       47523 non-null  object        \n",
      " 1   Duration            47523 non-null  int64         \n",
      " 2   Start Station Id    47523 non-null  int64         \n",
      " 3   Start Date          47523 non-null  datetime64[ns]\n",
      " 4   Start Station Name  47523 non-null  object        \n",
      " 5   End Date            47523 non-null  datetime64[ns]\n",
      " 6   End Station Id      47497 non-null  float64       \n",
      " 7   End Station Name    47497 non-null  object        \n",
      " 8   Rider Type          47523 non-null  object        \n",
      "dtypes: datetime64[ns](2), float64(1), int64(2), object(4)\n",
      "memory usage: 3.3+ MB\n"
     ]
    }
   ],
   "source": [
    "import pandas as pd\n",
    "import string\n",
    "import sys\n",
    "sys.path.append('/home/manuel/Documents/AI/pogoh-ai-engineering')\n",
    "import shared_utils.pogoh_cleaning as pc\n",
    "\n",
    "# Define the file path\n",
    "file_path = \"/home/manuel/Documents/AI/pogoh-ai-engineering/data/raw/april-2025.xlsx\"\n",
    "# Load the Excel file into a DataFrame\n",
    "pogoh_df = pd.read_excel(file_path)\n",
    "pogoh_df.info()"
   ]
  },
  {
   "cell_type": "code",
   "execution_count": 2,
   "id": "d1e87598",
   "metadata": {},
   "outputs": [
    {
     "data": {
      "text/plain": [
       "Index(['closed_status', 'duration', 'start_station_id', 'start_date',\n",
       "       'start_station_name', 'end_date', 'end_station_id', 'end_station_name',\n",
       "       'rider_type'],\n",
       "      dtype='object')"
      ]
     },
     "execution_count": 2,
     "metadata": {},
     "output_type": "execute_result"
    }
   ],
   "source": [
    "pogoh_df_cleaned = pc.clean_column_names(pogoh_df)\n",
    "pogoh_df_cleaned.columns"
   ]
  },
  {
   "cell_type": "markdown",
   "id": "b26538fb",
   "metadata": {},
   "source": [
    "First we'll create a function that checks if the information between *duration*, *start date* and *end date* matches. The duration of the trip is measured seconds, so we are matching this with the difference betwen the end and start times."
   ]
  },
  {
   "cell_type": "code",
   "execution_count": 9,
   "id": "7765f9e6",
   "metadata": {},
   "outputs": [
    {
     "data": {
      "text/plain": [
       "count     47523.000000\n",
       "mean        790.384277\n",
       "std        2694.794272\n",
       "min           0.000000\n",
       "25%         222.000000\n",
       "50%         381.000000\n",
       "75%         821.000000\n",
       "max      200129.000000\n",
       "Name: duration, dtype: float64"
      ]
     },
     "execution_count": 9,
     "metadata": {},
     "output_type": "execute_result"
    }
   ],
   "source": [
    "pogoh_df_cleaned['duration'].describe()"
   ]
  },
  {
   "cell_type": "code",
   "execution_count": 10,
   "id": "370c4d7d",
   "metadata": {},
   "outputs": [
    {
     "data": {
      "text/html": [
       "<div>\n",
       "<style scoped>\n",
       "    .dataframe tbody tr th:only-of-type {\n",
       "        vertical-align: middle;\n",
       "    }\n",
       "\n",
       "    .dataframe tbody tr th {\n",
       "        vertical-align: top;\n",
       "    }\n",
       "\n",
       "    .dataframe thead th {\n",
       "        text-align: right;\n",
       "    }\n",
       "</style>\n",
       "<table border=\"1\" class=\"dataframe\">\n",
       "  <thead>\n",
       "    <tr style=\"text-align: right;\">\n",
       "      <th></th>\n",
       "      <th>duration</th>\n",
       "      <th>start_date</th>\n",
       "      <th>end_date</th>\n",
       "    </tr>\n",
       "  </thead>\n",
       "  <tbody>\n",
       "    <tr>\n",
       "      <th>0</th>\n",
       "      <td>412</td>\n",
       "      <td>2025-04-30 23:58:19</td>\n",
       "      <td>2025-05-01 00:05:11</td>\n",
       "    </tr>\n",
       "    <tr>\n",
       "      <th>1</th>\n",
       "      <td>179</td>\n",
       "      <td>2025-04-30 23:58:06</td>\n",
       "      <td>2025-05-01 00:01:05</td>\n",
       "    </tr>\n",
       "    <tr>\n",
       "      <th>2</th>\n",
       "      <td>1060</td>\n",
       "      <td>2025-04-30 23:48:29</td>\n",
       "      <td>2025-05-01 00:06:09</td>\n",
       "    </tr>\n",
       "    <tr>\n",
       "      <th>3</th>\n",
       "      <td>1173</td>\n",
       "      <td>2025-04-30 23:46:30</td>\n",
       "      <td>2025-05-01 00:06:03</td>\n",
       "    </tr>\n",
       "    <tr>\n",
       "      <th>4</th>\n",
       "      <td>394</td>\n",
       "      <td>2025-04-30 23:45:03</td>\n",
       "      <td>2025-04-30 23:51:37</td>\n",
       "    </tr>\n",
       "  </tbody>\n",
       "</table>\n",
       "</div>"
      ],
      "text/plain": [
       "   duration          start_date            end_date\n",
       "0       412 2025-04-30 23:58:19 2025-05-01 00:05:11\n",
       "1       179 2025-04-30 23:58:06 2025-05-01 00:01:05\n",
       "2      1060 2025-04-30 23:48:29 2025-05-01 00:06:09\n",
       "3      1173 2025-04-30 23:46:30 2025-05-01 00:06:03\n",
       "4       394 2025-04-30 23:45:03 2025-04-30 23:51:37"
      ]
     },
     "execution_count": 10,
     "metadata": {},
     "output_type": "execute_result"
    }
   ],
   "source": [
    "pogoh_df_cleaned[['duration','start_date','end_date']].head()"
   ]
  },
  {
   "cell_type": "code",
   "execution_count": 5,
   "id": "1997deb6",
   "metadata": {},
   "outputs": [
    {
     "name": "stdout",
     "output_type": "stream",
     "text": [
      "No duration mismatches found.\n"
     ]
    },
    {
     "data": {
      "text/html": [
       "<div>\n",
       "<style scoped>\n",
       "    .dataframe tbody tr th:only-of-type {\n",
       "        vertical-align: middle;\n",
       "    }\n",
       "\n",
       "    .dataframe tbody tr th {\n",
       "        vertical-align: top;\n",
       "    }\n",
       "\n",
       "    .dataframe thead th {\n",
       "        text-align: right;\n",
       "    }\n",
       "</style>\n",
       "<table border=\"1\" class=\"dataframe\">\n",
       "  <thead>\n",
       "    <tr style=\"text-align: right;\">\n",
       "      <th></th>\n",
       "      <th>closed_status</th>\n",
       "      <th>duration</th>\n",
       "      <th>start_station_id</th>\n",
       "      <th>start_date</th>\n",
       "      <th>start_station_name</th>\n",
       "      <th>end_date</th>\n",
       "      <th>end_station_id</th>\n",
       "      <th>end_station_name</th>\n",
       "      <th>rider_type</th>\n",
       "      <th>computed_duration</th>\n",
       "    </tr>\n",
       "  </thead>\n",
       "  <tbody>\n",
       "  </tbody>\n",
       "</table>\n",
       "</div>"
      ],
      "text/plain": [
       "Empty DataFrame\n",
       "Columns: [closed_status, duration, start_station_id, start_date, start_station_name, end_date, end_station_id, end_station_name, rider_type, computed_duration]\n",
       "Index: []"
      ]
     },
     "execution_count": 5,
     "metadata": {},
     "output_type": "execute_result"
    }
   ],
   "source": [
    "pc.check_duration_mismatch(pogoh_df_cleaned, tolerance_sec=0)"
   ]
  },
  {
   "cell_type": "code",
   "execution_count": 6,
   "id": "e3675ee2",
   "metadata": {},
   "outputs": [
    {
     "name": "stdout",
     "output_type": "stream",
     "text": [
      "Duration mismatch found in 1 row(s).\n"
     ]
    },
    {
     "data": {
      "text/html": [
       "<div>\n",
       "<style scoped>\n",
       "    .dataframe tbody tr th:only-of-type {\n",
       "        vertical-align: middle;\n",
       "    }\n",
       "\n",
       "    .dataframe tbody tr th {\n",
       "        vertical-align: top;\n",
       "    }\n",
       "\n",
       "    .dataframe thead th {\n",
       "        text-align: right;\n",
       "    }\n",
       "</style>\n",
       "<table border=\"1\" class=\"dataframe\">\n",
       "  <thead>\n",
       "    <tr style=\"text-align: right;\">\n",
       "      <th></th>\n",
       "      <th>start_date</th>\n",
       "      <th>end_date</th>\n",
       "      <th>duration</th>\n",
       "      <th>computed_duration</th>\n",
       "    </tr>\n",
       "  </thead>\n",
       "  <tbody>\n",
       "    <tr>\n",
       "      <th>0</th>\n",
       "      <td>2025-06-17 10:00:00</td>\n",
       "      <td>2025-06-17 10:20:00</td>\n",
       "      <td>900</td>\n",
       "      <td>1200.0</td>\n",
       "    </tr>\n",
       "  </tbody>\n",
       "</table>\n",
       "</div>"
      ],
      "text/plain": [
       "           start_date            end_date  duration  computed_duration\n",
       "0 2025-06-17 10:00:00 2025-06-17 10:20:00       900             1200.0"
      ]
     },
     "execution_count": 6,
     "metadata": {},
     "output_type": "execute_result"
    }
   ],
   "source": [
    "# Sample data with one mismatch in row 2\n",
    "data = {\n",
    "    \"start_date\": [\n",
    "        \"2025-06-17 08:00:00\",\n",
    "        \"2025-06-17 09:15:00\",\n",
    "        \"2025-06-17 10:00:00\",\n",
    "        \"2025-06-17 11:45:00\"\n",
    "    ],\n",
    "    \"end_date\": [\n",
    "        \"2025-06-17 08:30:00\",  # 1800 seconds\n",
    "        \"2025-06-17 09:45:00\",  # 1800 seconds\n",
    "        \"2025-06-17 10:20:00\",  # 1200 seconds, but duration says 900 (mismatch)\n",
    "        \"2025-06-17 12:30:00\"   # 2700 seconds\n",
    "    ],\n",
    "    \"duration\": [\n",
    "        1800,  # match\n",
    "        1800,  # match\n",
    "        900,   # mismatch!\n",
    "        2700   # match\n",
    "    ]\n",
    "}\n",
    "\n",
    "df_test = pd.DataFrame(data)\n",
    "pc.check_duration_mismatch(df_test)\n"
   ]
  },
  {
   "cell_type": "code",
   "execution_count": 15,
   "id": "0495e0ec",
   "metadata": {},
   "outputs": [
    {
     "data": {
      "text/html": [
       "<div>\n",
       "<style scoped>\n",
       "    .dataframe tbody tr th:only-of-type {\n",
       "        vertical-align: middle;\n",
       "    }\n",
       "\n",
       "    .dataframe tbody tr th {\n",
       "        vertical-align: top;\n",
       "    }\n",
       "\n",
       "    .dataframe thead th {\n",
       "        text-align: right;\n",
       "    }\n",
       "</style>\n",
       "<table border=\"1\" class=\"dataframe\">\n",
       "  <thead>\n",
       "    <tr style=\"text-align: right;\">\n",
       "      <th></th>\n",
       "      <th>Closed Status</th>\n",
       "      <th>Duration</th>\n",
       "      <th>Start Station Id</th>\n",
       "      <th>Start Date</th>\n",
       "      <th>Start Station Name</th>\n",
       "      <th>End Date</th>\n",
       "      <th>End Station Id</th>\n",
       "      <th>End Station Name</th>\n",
       "      <th>Rider Type</th>\n",
       "    </tr>\n",
       "  </thead>\n",
       "  <tbody>\n",
       "  </tbody>\n",
       "</table>\n",
       "</div>"
      ],
      "text/plain": [
       "Empty DataFrame\n",
       "Columns: [Closed Status, Duration, Start Station Id, Start Date, Start Station Name, End Date, End Station Id, End Station Name, Rider Type]\n",
       "Index: []"
      ]
     },
     "execution_count": 15,
     "metadata": {},
     "output_type": "execute_result"
    }
   ],
   "source": [
    "pogoh_df[pogoh_df_cleaned['end_date'].isna()]"
   ]
  }
 ],
 "metadata": {
  "kernelspec": {
   "display_name": "pogoh_ai",
   "language": "python",
   "name": "python3"
  },
  "language_info": {
   "codemirror_mode": {
    "name": "ipython",
    "version": 3
   },
   "file_extension": ".py",
   "mimetype": "text/x-python",
   "name": "python",
   "nbconvert_exporter": "python",
   "pygments_lexer": "ipython3",
   "version": "3.11.12"
  }
 },
 "nbformat": 4,
 "nbformat_minor": 5
}
