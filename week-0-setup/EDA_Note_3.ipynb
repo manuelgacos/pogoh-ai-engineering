{
 "cells": [
  {
   "cell_type": "markdown",
   "id": "ccc1467f",
   "metadata": {},
   "source": [
    "# Initial data cleaning (Part 2)\n",
    "\n",
    "In this notebook we do some data cleaning for a small portion of the POGOH dataset, this will give some ideas on how to proceed for dealing with the data at a larger scale.\n",
    "\n",
    "__NOTE:__ In this dataset there were some NaN observations in End Station Id and End Station Name, and because of this the ID column is read as a float instead of integer. We handle this issue in this notebook."
   ]
  },
  {
   "cell_type": "code",
   "execution_count": 1,
   "id": "a7972bab",
   "metadata": {},
   "outputs": [
    {
     "name": "stdout",
     "output_type": "stream",
     "text": [
      "<class 'pandas.core.frame.DataFrame'>\n",
      "RangeIndex: 47523 entries, 0 to 47522\n",
      "Data columns (total 9 columns):\n",
      " #   Column              Non-Null Count  Dtype         \n",
      "---  ------              --------------  -----         \n",
      " 0   Closed Status       47523 non-null  object        \n",
      " 1   Duration            47523 non-null  int64         \n",
      " 2   Start Station Id    47523 non-null  int64         \n",
      " 3   Start Date          47523 non-null  datetime64[ns]\n",
      " 4   Start Station Name  47523 non-null  object        \n",
      " 5   End Date            47523 non-null  datetime64[ns]\n",
      " 6   End Station Id      47497 non-null  float64       \n",
      " 7   End Station Name    47497 non-null  object        \n",
      " 8   Rider Type          47523 non-null  object        \n",
      "dtypes: datetime64[ns](2), float64(1), int64(2), object(4)\n",
      "memory usage: 3.3+ MB\n"
     ]
    }
   ],
   "source": [
    "import pandas as pd\n",
    "import string\n",
    "import sys\n",
    "sys.path.append('/home/manuel/Documents/AI/pogoh-ai-engineering')\n",
    "import shared_utils.pogoh_cleaning as pc\n",
    "\n",
    "# Define the file path\n",
    "file_path = \"/home/manuel/Documents/AI/pogoh-ai-engineering/data/raw/april-2025.xlsx\"\n",
    "# Load the Excel file into a DataFrame\n",
    "pogoh_df = pd.read_excel(file_path)\n",
    "pogoh_df.info()"
   ]
  },
  {
   "cell_type": "code",
   "execution_count": 2,
   "id": "d1e87598",
   "metadata": {},
   "outputs": [
    {
     "data": {
      "text/plain": [
       "Index(['closed_status', 'duration', 'start_station_id', 'start_date',\n",
       "       'start_station_name', 'end_date', 'end_station_id', 'end_station_name',\n",
       "       'rider_type'],\n",
       "      dtype='object')"
      ]
     },
     "execution_count": 2,
     "metadata": {},
     "output_type": "execute_result"
    }
   ],
   "source": [
    "pogoh_df_cleaned = pc.clean_column_names(pogoh_df)\n",
    "pogoh_df_cleaned.columns"
   ]
  },
  {
   "cell_type": "markdown",
   "id": "b26538fb",
   "metadata": {},
   "source": [
    "First we'll create a function *_check_duration_mismatch()* that checks if the information between *duration*, *start date* and *end date* matches. The duration of the trip is measured seconds, so we are matching this with the difference betwen the end and start times."
   ]
  },
  {
   "cell_type": "code",
   "execution_count": 3,
   "id": "7765f9e6",
   "metadata": {},
   "outputs": [
    {
     "data": {
      "text/plain": [
       "count     47523.000000\n",
       "mean        790.384277\n",
       "std        2694.794272\n",
       "min           0.000000\n",
       "25%         222.000000\n",
       "50%         381.000000\n",
       "75%         821.000000\n",
       "max      200129.000000\n",
       "Name: duration, dtype: float64"
      ]
     },
     "execution_count": 3,
     "metadata": {},
     "output_type": "execute_result"
    }
   ],
   "source": [
    "pogoh_df_cleaned['duration'].describe()"
   ]
  },
  {
   "cell_type": "code",
   "execution_count": 4,
   "id": "370c4d7d",
   "metadata": {},
   "outputs": [
    {
     "data": {
      "text/html": [
       "<div>\n",
       "<style scoped>\n",
       "    .dataframe tbody tr th:only-of-type {\n",
       "        vertical-align: middle;\n",
       "    }\n",
       "\n",
       "    .dataframe tbody tr th {\n",
       "        vertical-align: top;\n",
       "    }\n",
       "\n",
       "    .dataframe thead th {\n",
       "        text-align: right;\n",
       "    }\n",
       "</style>\n",
       "<table border=\"1\" class=\"dataframe\">\n",
       "  <thead>\n",
       "    <tr style=\"text-align: right;\">\n",
       "      <th></th>\n",
       "      <th>duration</th>\n",
       "      <th>start_date</th>\n",
       "      <th>end_date</th>\n",
       "    </tr>\n",
       "  </thead>\n",
       "  <tbody>\n",
       "    <tr>\n",
       "      <th>0</th>\n",
       "      <td>412</td>\n",
       "      <td>2025-04-30 23:58:19</td>\n",
       "      <td>2025-05-01 00:05:11</td>\n",
       "    </tr>\n",
       "    <tr>\n",
       "      <th>1</th>\n",
       "      <td>179</td>\n",
       "      <td>2025-04-30 23:58:06</td>\n",
       "      <td>2025-05-01 00:01:05</td>\n",
       "    </tr>\n",
       "    <tr>\n",
       "      <th>2</th>\n",
       "      <td>1060</td>\n",
       "      <td>2025-04-30 23:48:29</td>\n",
       "      <td>2025-05-01 00:06:09</td>\n",
       "    </tr>\n",
       "    <tr>\n",
       "      <th>3</th>\n",
       "      <td>1173</td>\n",
       "      <td>2025-04-30 23:46:30</td>\n",
       "      <td>2025-05-01 00:06:03</td>\n",
       "    </tr>\n",
       "    <tr>\n",
       "      <th>4</th>\n",
       "      <td>394</td>\n",
       "      <td>2025-04-30 23:45:03</td>\n",
       "      <td>2025-04-30 23:51:37</td>\n",
       "    </tr>\n",
       "  </tbody>\n",
       "</table>\n",
       "</div>"
      ],
      "text/plain": [
       "   duration          start_date            end_date\n",
       "0       412 2025-04-30 23:58:19 2025-05-01 00:05:11\n",
       "1       179 2025-04-30 23:58:06 2025-05-01 00:01:05\n",
       "2      1060 2025-04-30 23:48:29 2025-05-01 00:06:09\n",
       "3      1173 2025-04-30 23:46:30 2025-05-01 00:06:03\n",
       "4       394 2025-04-30 23:45:03 2025-04-30 23:51:37"
      ]
     },
     "execution_count": 4,
     "metadata": {},
     "output_type": "execute_result"
    }
   ],
   "source": [
    "pogoh_df_cleaned[['duration','start_date','end_date']].head()"
   ]
  },
  {
   "cell_type": "code",
   "execution_count": 5,
   "id": "1997deb6",
   "metadata": {},
   "outputs": [
    {
     "data": {
      "text/plain": [
       "np.int64(0)"
      ]
     },
     "execution_count": 5,
     "metadata": {},
     "output_type": "execute_result"
    }
   ],
   "source": [
    "pc._check_duration_mismatch(pogoh_df_cleaned, tolerance_sec=0).sum()"
   ]
  },
  {
   "cell_type": "code",
   "execution_count": 6,
   "id": "e3675ee2",
   "metadata": {},
   "outputs": [
    {
     "data": {
      "text/plain": [
       "np.int64(1)"
      ]
     },
     "execution_count": 6,
     "metadata": {},
     "output_type": "execute_result"
    }
   ],
   "source": [
    "# Sample data with one mismatch in row 2\n",
    "data = {\n",
    "    \"start_date\": [\n",
    "        \"2025-06-17 08:00:00\",\n",
    "        \"2025-06-17 09:15:00\",\n",
    "        \"2025-06-17 10:00:00\",\n",
    "        \"2025-06-17 11:45:00\"\n",
    "    ],\n",
    "    \"end_date\": [\n",
    "        \"2025-06-17 08:30:00\",  # 1800 seconds\n",
    "        \"2025-06-17 09:45:00\",  # 1800 seconds\n",
    "        \"2025-06-17 10:20:00\",  # 1200 seconds, but duration says 900 (mismatch)\n",
    "        \"2025-06-17 12:30:00\"   # 2700 seconds\n",
    "    ],\n",
    "    \"duration\": [\n",
    "        1800,  # match\n",
    "        1800,  # match\n",
    "        900,   # mismatch!\n",
    "        2700   # match\n",
    "    ]\n",
    "}\n",
    "\n",
    "df_test = pd.DataFrame(data)\n",
    "pc._check_duration_mismatch(df_test).sum()\n"
   ]
  },
  {
   "cell_type": "markdown",
   "id": "9745cafd",
   "metadata": {},
   "source": [
    "The next function, *_check_negative_or_zero_duration*,checks if there were any trips with negative or 0 duration."
   ]
  },
  {
   "cell_type": "code",
   "execution_count": 7,
   "id": "0495e0ec",
   "metadata": {},
   "outputs": [
    {
     "data": {
      "text/plain": [
       "np.int64(1)"
      ]
     },
     "execution_count": 7,
     "metadata": {},
     "output_type": "execute_result"
    }
   ],
   "source": [
    "pc._check_negative_or_zero_duration(pogoh_df_cleaned).sum()"
   ]
  },
  {
   "cell_type": "markdown",
   "id": "e528390e",
   "metadata": {},
   "source": [
    "The *_check_unrealistic_duration* function looks for trips longer than a specified duration. The default is one day."
   ]
  },
  {
   "cell_type": "code",
   "execution_count": 8,
   "id": "b93eab3e",
   "metadata": {},
   "outputs": [
    {
     "data": {
      "text/plain": [
       "np.int64(8)"
      ]
     },
     "execution_count": 8,
     "metadata": {},
     "output_type": "execute_result"
    }
   ],
   "source": [
    "pc._check_unrealistic_duration(pogoh_df_cleaned, max_seconds=86400).sum()"
   ]
  },
  {
   "cell_type": "markdown",
   "id": "61827814",
   "metadata": {},
   "source": [
    "The *_check_missing_timestamps* function checks for rows where the timestamps for start or end of the trip are missing."
   ]
  },
  {
   "cell_type": "code",
   "execution_count": 9,
   "id": "2b9f6731",
   "metadata": {},
   "outputs": [
    {
     "data": {
      "text/plain": [
       "np.int64(0)"
      ]
     },
     "execution_count": 9,
     "metadata": {},
     "output_type": "execute_result"
    }
   ],
   "source": [
    "pc._check_missing_timestamps(pogoh_df_cleaned).sum()"
   ]
  },
  {
   "cell_type": "markdown",
   "id": "9886dcee",
   "metadata": {},
   "source": [
    "The *_check_start_after_end* function checks for rows where the start timestamp is after the end timestamp."
   ]
  },
  {
   "cell_type": "code",
   "execution_count": 10,
   "id": "143882ed",
   "metadata": {},
   "outputs": [
    {
     "data": {
      "text/plain": [
       "np.int64(0)"
      ]
     },
     "execution_count": 10,
     "metadata": {},
     "output_type": "execute_result"
    }
   ],
   "source": [
    "pc._check_start_after_end(pogoh_df_cleaned).sum()"
   ]
  },
  {
   "cell_type": "markdown",
   "id": "157efb21",
   "metadata": {},
   "source": [
    "The *_check_datetime_out_of_range* function checks for rows where the start/end timestamps are outside of a defined range."
   ]
  },
  {
   "cell_type": "code",
   "execution_count": 11,
   "id": "21e06df2",
   "metadata": {},
   "outputs": [
    {
     "data": {
      "text/plain": [
       "np.int64(0)"
      ]
     },
     "execution_count": 11,
     "metadata": {},
     "output_type": "execute_result"
    }
   ],
   "source": [
    "pc._check_datetime_out_of_range(pogoh_df_cleaned, min_year=2020, max_year=2025, min_month=1, max_month=12).sum()"
   ]
  },
  {
   "cell_type": "markdown",
   "id": "ef14088b",
   "metadata": {},
   "source": [
    "The *validate_trip_data* function creates a dictionary with information about the number of rows that present any issues with the predefined checks."
   ]
  },
  {
   "cell_type": "code",
   "execution_count": 12,
   "id": "32d6655a",
   "metadata": {},
   "outputs": [
    {
     "name": "stdout",
     "output_type": "stream",
     "text": [
      "Trip Data Validation Summary:\n",
      "-----------------------------------\n",
      "[FAIL]  Negative or zero duration: 1 issue(s) found.\n",
      "[FAIL]  Unrealistic duration: 8 issue(s) found.\n",
      "[OK]    Missing timestamps: no issues found.\n",
      "[OK]    Start after end: no issues found.\n",
      "[OK]    Datetime out of range: no issues found.\n",
      "[OK]    Duration mismatch: no issues found.\n",
      "-----------------------------------\n"
     ]
    }
   ],
   "source": [
    "summary = pc.validate_trip_data(pogoh_df_cleaned)\n",
    "pc.summarize_trip_validation(summary)"
   ]
  },
  {
   "cell_type": "markdown",
   "id": "a0793ac7",
   "metadata": {},
   "source": [
    "The *get_trip_data_issues* function Returns a DataFrame of rows with validation issues according to the above defined functions. It can return the flags for troublesome rows only or include the full original data for such observations."
   ]
  },
  {
   "cell_type": "code",
   "execution_count": 13,
   "id": "bdd8b847",
   "metadata": {},
   "outputs": [
    {
     "data": {
      "text/html": [
       "<div>\n",
       "<style scoped>\n",
       "    .dataframe tbody tr th:only-of-type {\n",
       "        vertical-align: middle;\n",
       "    }\n",
       "\n",
       "    .dataframe tbody tr th {\n",
       "        vertical-align: top;\n",
       "    }\n",
       "\n",
       "    .dataframe thead th {\n",
       "        text-align: right;\n",
       "    }\n",
       "</style>\n",
       "<table border=\"1\" class=\"dataframe\">\n",
       "  <thead>\n",
       "    <tr style=\"text-align: right;\">\n",
       "      <th></th>\n",
       "      <th>closed_status</th>\n",
       "      <th>duration</th>\n",
       "      <th>start_station_id</th>\n",
       "      <th>start_date</th>\n",
       "      <th>start_station_name</th>\n",
       "      <th>end_date</th>\n",
       "      <th>end_station_id</th>\n",
       "      <th>end_station_name</th>\n",
       "      <th>rider_type</th>\n",
       "      <th>original_index</th>\n",
       "      <th>invalid_negative_or_zero_duration</th>\n",
       "      <th>invalid_unrealistic_duration</th>\n",
       "      <th>invalid_missing_timestamps</th>\n",
       "      <th>invalid_start_after_end</th>\n",
       "      <th>invalid_datetime_out_of_range</th>\n",
       "      <th>invalid_duration_mismatch</th>\n",
       "    </tr>\n",
       "  </thead>\n",
       "  <tbody>\n",
       "    <tr>\n",
       "      <th>0</th>\n",
       "      <td>TERMINATED</td>\n",
       "      <td>175669</td>\n",
       "      <td>37</td>\n",
       "      <td>2025-04-22 14:54:11</td>\n",
       "      <td>S Negley Ave &amp; Centre Ave</td>\n",
       "      <td>2025-04-24 15:42:00</td>\n",
       "      <td>NaN</td>\n",
       "      <td>NaN</td>\n",
       "      <td>MEMBER</td>\n",
       "      <td>16206</td>\n",
       "      <td>False</td>\n",
       "      <td>True</td>\n",
       "      <td>False</td>\n",
       "      <td>False</td>\n",
       "      <td>False</td>\n",
       "      <td>False</td>\n",
       "    </tr>\n",
       "    <tr>\n",
       "      <th>1</th>\n",
       "      <td>NORMAL</td>\n",
       "      <td>99963</td>\n",
       "      <td>31</td>\n",
       "      <td>2025-04-18 08:04:19</td>\n",
       "      <td>First Ave &amp; B St</td>\n",
       "      <td>2025-04-19 11:50:22</td>\n",
       "      <td>22.0</td>\n",
       "      <td>Forbes Ave &amp; Market Square</td>\n",
       "      <td>MEMBER</td>\n",
       "      <td>24137</td>\n",
       "      <td>False</td>\n",
       "      <td>True</td>\n",
       "      <td>False</td>\n",
       "      <td>False</td>\n",
       "      <td>False</td>\n",
       "      <td>False</td>\n",
       "    </tr>\n",
       "    <tr>\n",
       "      <th>2</th>\n",
       "      <td>NORMAL</td>\n",
       "      <td>97753</td>\n",
       "      <td>26</td>\n",
       "      <td>2025-04-17 23:20:42</td>\n",
       "      <td>S 27th St &amp; Sidney St. (Southside Works)</td>\n",
       "      <td>2025-04-19 02:29:55</td>\n",
       "      <td>42.0</td>\n",
       "      <td>Second Ave &amp; Tecumseh St</td>\n",
       "      <td>CASUAL</td>\n",
       "      <td>24295</td>\n",
       "      <td>False</td>\n",
       "      <td>True</td>\n",
       "      <td>False</td>\n",
       "      <td>False</td>\n",
       "      <td>False</td>\n",
       "      <td>False</td>\n",
       "    </tr>\n",
       "    <tr>\n",
       "      <th>3</th>\n",
       "      <td>NORMAL</td>\n",
       "      <td>148447</td>\n",
       "      <td>24</td>\n",
       "      <td>2025-04-15 16:00:52</td>\n",
       "      <td>Penn Ave &amp; 33rd St</td>\n",
       "      <td>2025-04-17 09:14:59</td>\n",
       "      <td>24.0</td>\n",
       "      <td>Penn Ave &amp; 33rd St</td>\n",
       "      <td>MEMBER</td>\n",
       "      <td>27975</td>\n",
       "      <td>False</td>\n",
       "      <td>True</td>\n",
       "      <td>False</td>\n",
       "      <td>False</td>\n",
       "      <td>False</td>\n",
       "      <td>False</td>\n",
       "    </tr>\n",
       "    <tr>\n",
       "      <th>4</th>\n",
       "      <td>NORMAL</td>\n",
       "      <td>200129</td>\n",
       "      <td>24</td>\n",
       "      <td>2025-04-14 12:58:23</td>\n",
       "      <td>Penn Ave &amp; 33rd St</td>\n",
       "      <td>2025-04-16 20:33:52</td>\n",
       "      <td>24.0</td>\n",
       "      <td>Penn Ave &amp; 33rd St</td>\n",
       "      <td>MEMBER</td>\n",
       "      <td>30226</td>\n",
       "      <td>False</td>\n",
       "      <td>True</td>\n",
       "      <td>False</td>\n",
       "      <td>False</td>\n",
       "      <td>False</td>\n",
       "      <td>False</td>\n",
       "    </tr>\n",
       "    <tr>\n",
       "      <th>5</th>\n",
       "      <td>TERMINATED</td>\n",
       "      <td>0</td>\n",
       "      <td>33</td>\n",
       "      <td>2025-04-13 20:57:17</td>\n",
       "      <td>Schenley Dr &amp; Schenley Dr Ext</td>\n",
       "      <td>2025-04-13 20:57:17</td>\n",
       "      <td>33.0</td>\n",
       "      <td>Schenley Dr &amp; Schenley Dr Ext</td>\n",
       "      <td>MEMBER</td>\n",
       "      <td>30912</td>\n",
       "      <td>True</td>\n",
       "      <td>False</td>\n",
       "      <td>False</td>\n",
       "      <td>False</td>\n",
       "      <td>False</td>\n",
       "      <td>False</td>\n",
       "    </tr>\n",
       "    <tr>\n",
       "      <th>6</th>\n",
       "      <td>NORMAL</td>\n",
       "      <td>169154</td>\n",
       "      <td>23</td>\n",
       "      <td>2025-04-09 13:42:12</td>\n",
       "      <td>North Shore Trail &amp; Fort Duquesne Bridge</td>\n",
       "      <td>2025-04-11 12:41:26</td>\n",
       "      <td>24.0</td>\n",
       "      <td>Penn Ave &amp; 33rd St</td>\n",
       "      <td>CASUAL</td>\n",
       "      <td>36682</td>\n",
       "      <td>False</td>\n",
       "      <td>True</td>\n",
       "      <td>False</td>\n",
       "      <td>False</td>\n",
       "      <td>False</td>\n",
       "      <td>False</td>\n",
       "    </tr>\n",
       "    <tr>\n",
       "      <th>7</th>\n",
       "      <td>NORMAL</td>\n",
       "      <td>92908</td>\n",
       "      <td>13</td>\n",
       "      <td>2025-04-06 14:32:54</td>\n",
       "      <td>S Bouquet Ave &amp; Sennott St</td>\n",
       "      <td>2025-04-07 16:21:22</td>\n",
       "      <td>24.0</td>\n",
       "      <td>Penn Ave &amp; 33rd St</td>\n",
       "      <td>CASUAL</td>\n",
       "      <td>40312</td>\n",
       "      <td>False</td>\n",
       "      <td>True</td>\n",
       "      <td>False</td>\n",
       "      <td>False</td>\n",
       "      <td>False</td>\n",
       "      <td>False</td>\n",
       "    </tr>\n",
       "    <tr>\n",
       "      <th>8</th>\n",
       "      <td>NORMAL</td>\n",
       "      <td>91478</td>\n",
       "      <td>13</td>\n",
       "      <td>2025-04-06 14:32:47</td>\n",
       "      <td>S Bouquet Ave &amp; Sennott St</td>\n",
       "      <td>2025-04-07 15:57:25</td>\n",
       "      <td>36.0</td>\n",
       "      <td>Penn Ave &amp; S Pacific Ave</td>\n",
       "      <td>CASUAL</td>\n",
       "      <td>40313</td>\n",
       "      <td>False</td>\n",
       "      <td>True</td>\n",
       "      <td>False</td>\n",
       "      <td>False</td>\n",
       "      <td>False</td>\n",
       "      <td>False</td>\n",
       "    </tr>\n",
       "  </tbody>\n",
       "</table>\n",
       "</div>"
      ],
      "text/plain": [
       "  closed_status  duration  start_station_id          start_date  \\\n",
       "0    TERMINATED    175669                37 2025-04-22 14:54:11   \n",
       "1        NORMAL     99963                31 2025-04-18 08:04:19   \n",
       "2        NORMAL     97753                26 2025-04-17 23:20:42   \n",
       "3        NORMAL    148447                24 2025-04-15 16:00:52   \n",
       "4        NORMAL    200129                24 2025-04-14 12:58:23   \n",
       "5    TERMINATED         0                33 2025-04-13 20:57:17   \n",
       "6        NORMAL    169154                23 2025-04-09 13:42:12   \n",
       "7        NORMAL     92908                13 2025-04-06 14:32:54   \n",
       "8        NORMAL     91478                13 2025-04-06 14:32:47   \n",
       "\n",
       "                         start_station_name            end_date  \\\n",
       "0                 S Negley Ave & Centre Ave 2025-04-24 15:42:00   \n",
       "1                          First Ave & B St 2025-04-19 11:50:22   \n",
       "2  S 27th St & Sidney St. (Southside Works) 2025-04-19 02:29:55   \n",
       "3                        Penn Ave & 33rd St 2025-04-17 09:14:59   \n",
       "4                        Penn Ave & 33rd St 2025-04-16 20:33:52   \n",
       "5             Schenley Dr & Schenley Dr Ext 2025-04-13 20:57:17   \n",
       "6  North Shore Trail & Fort Duquesne Bridge 2025-04-11 12:41:26   \n",
       "7                S Bouquet Ave & Sennott St 2025-04-07 16:21:22   \n",
       "8                S Bouquet Ave & Sennott St 2025-04-07 15:57:25   \n",
       "\n",
       "   end_station_id               end_station_name rider_type  original_index  \\\n",
       "0             NaN                            NaN     MEMBER           16206   \n",
       "1            22.0     Forbes Ave & Market Square     MEMBER           24137   \n",
       "2            42.0       Second Ave & Tecumseh St     CASUAL           24295   \n",
       "3            24.0             Penn Ave & 33rd St     MEMBER           27975   \n",
       "4            24.0             Penn Ave & 33rd St     MEMBER           30226   \n",
       "5            33.0  Schenley Dr & Schenley Dr Ext     MEMBER           30912   \n",
       "6            24.0             Penn Ave & 33rd St     CASUAL           36682   \n",
       "7            24.0             Penn Ave & 33rd St     CASUAL           40312   \n",
       "8            36.0       Penn Ave & S Pacific Ave     CASUAL           40313   \n",
       "\n",
       "   invalid_negative_or_zero_duration  invalid_unrealistic_duration  \\\n",
       "0                              False                          True   \n",
       "1                              False                          True   \n",
       "2                              False                          True   \n",
       "3                              False                          True   \n",
       "4                              False                          True   \n",
       "5                               True                         False   \n",
       "6                              False                          True   \n",
       "7                              False                          True   \n",
       "8                              False                          True   \n",
       "\n",
       "   invalid_missing_timestamps  invalid_start_after_end  \\\n",
       "0                       False                    False   \n",
       "1                       False                    False   \n",
       "2                       False                    False   \n",
       "3                       False                    False   \n",
       "4                       False                    False   \n",
       "5                       False                    False   \n",
       "6                       False                    False   \n",
       "7                       False                    False   \n",
       "8                       False                    False   \n",
       "\n",
       "   invalid_datetime_out_of_range  invalid_duration_mismatch  \n",
       "0                          False                      False  \n",
       "1                          False                      False  \n",
       "2                          False                      False  \n",
       "3                          False                      False  \n",
       "4                          False                      False  \n",
       "5                          False                      False  \n",
       "6                          False                      False  \n",
       "7                          False                      False  \n",
       "8                          False                      False  "
      ]
     },
     "execution_count": 13,
     "metadata": {},
     "output_type": "execute_result"
    }
   ],
   "source": [
    "pc.get_trip_data_issues(pogoh_df_cleaned, include_full_data=True)"
   ]
  },
  {
   "cell_type": "code",
   "execution_count": 14,
   "id": "13000124",
   "metadata": {},
   "outputs": [
    {
     "data": {
      "text/html": [
       "<div>\n",
       "<style scoped>\n",
       "    .dataframe tbody tr th:only-of-type {\n",
       "        vertical-align: middle;\n",
       "    }\n",
       "\n",
       "    .dataframe tbody tr th {\n",
       "        vertical-align: top;\n",
       "    }\n",
       "\n",
       "    .dataframe thead th {\n",
       "        text-align: right;\n",
       "    }\n",
       "</style>\n",
       "<table border=\"1\" class=\"dataframe\">\n",
       "  <thead>\n",
       "    <tr style=\"text-align: right;\">\n",
       "      <th></th>\n",
       "      <th>invalid_negative_or_zero_duration</th>\n",
       "      <th>invalid_unrealistic_duration</th>\n",
       "      <th>invalid_missing_timestamps</th>\n",
       "      <th>invalid_start_after_end</th>\n",
       "      <th>invalid_datetime_out_of_range</th>\n",
       "      <th>invalid_duration_mismatch</th>\n",
       "      <th>original_index</th>\n",
       "    </tr>\n",
       "  </thead>\n",
       "  <tbody>\n",
       "    <tr>\n",
       "      <th>0</th>\n",
       "      <td>False</td>\n",
       "      <td>True</td>\n",
       "      <td>False</td>\n",
       "      <td>False</td>\n",
       "      <td>False</td>\n",
       "      <td>False</td>\n",
       "      <td>16206</td>\n",
       "    </tr>\n",
       "    <tr>\n",
       "      <th>1</th>\n",
       "      <td>False</td>\n",
       "      <td>True</td>\n",
       "      <td>False</td>\n",
       "      <td>False</td>\n",
       "      <td>False</td>\n",
       "      <td>False</td>\n",
       "      <td>24137</td>\n",
       "    </tr>\n",
       "    <tr>\n",
       "      <th>2</th>\n",
       "      <td>False</td>\n",
       "      <td>True</td>\n",
       "      <td>False</td>\n",
       "      <td>False</td>\n",
       "      <td>False</td>\n",
       "      <td>False</td>\n",
       "      <td>24295</td>\n",
       "    </tr>\n",
       "    <tr>\n",
       "      <th>3</th>\n",
       "      <td>False</td>\n",
       "      <td>True</td>\n",
       "      <td>False</td>\n",
       "      <td>False</td>\n",
       "      <td>False</td>\n",
       "      <td>False</td>\n",
       "      <td>27975</td>\n",
       "    </tr>\n",
       "    <tr>\n",
       "      <th>4</th>\n",
       "      <td>False</td>\n",
       "      <td>True</td>\n",
       "      <td>False</td>\n",
       "      <td>False</td>\n",
       "      <td>False</td>\n",
       "      <td>False</td>\n",
       "      <td>30226</td>\n",
       "    </tr>\n",
       "    <tr>\n",
       "      <th>5</th>\n",
       "      <td>True</td>\n",
       "      <td>False</td>\n",
       "      <td>False</td>\n",
       "      <td>False</td>\n",
       "      <td>False</td>\n",
       "      <td>False</td>\n",
       "      <td>30912</td>\n",
       "    </tr>\n",
       "    <tr>\n",
       "      <th>6</th>\n",
       "      <td>False</td>\n",
       "      <td>True</td>\n",
       "      <td>False</td>\n",
       "      <td>False</td>\n",
       "      <td>False</td>\n",
       "      <td>False</td>\n",
       "      <td>36682</td>\n",
       "    </tr>\n",
       "    <tr>\n",
       "      <th>7</th>\n",
       "      <td>False</td>\n",
       "      <td>True</td>\n",
       "      <td>False</td>\n",
       "      <td>False</td>\n",
       "      <td>False</td>\n",
       "      <td>False</td>\n",
       "      <td>40312</td>\n",
       "    </tr>\n",
       "    <tr>\n",
       "      <th>8</th>\n",
       "      <td>False</td>\n",
       "      <td>True</td>\n",
       "      <td>False</td>\n",
       "      <td>False</td>\n",
       "      <td>False</td>\n",
       "      <td>False</td>\n",
       "      <td>40313</td>\n",
       "    </tr>\n",
       "  </tbody>\n",
       "</table>\n",
       "</div>"
      ],
      "text/plain": [
       "   invalid_negative_or_zero_duration  invalid_unrealistic_duration  \\\n",
       "0                              False                          True   \n",
       "1                              False                          True   \n",
       "2                              False                          True   \n",
       "3                              False                          True   \n",
       "4                              False                          True   \n",
       "5                               True                         False   \n",
       "6                              False                          True   \n",
       "7                              False                          True   \n",
       "8                              False                          True   \n",
       "\n",
       "   invalid_missing_timestamps  invalid_start_after_end  \\\n",
       "0                       False                    False   \n",
       "1                       False                    False   \n",
       "2                       False                    False   \n",
       "3                       False                    False   \n",
       "4                       False                    False   \n",
       "5                       False                    False   \n",
       "6                       False                    False   \n",
       "7                       False                    False   \n",
       "8                       False                    False   \n",
       "\n",
       "   invalid_datetime_out_of_range  invalid_duration_mismatch  original_index  \n",
       "0                          False                      False           16206  \n",
       "1                          False                      False           24137  \n",
       "2                          False                      False           24295  \n",
       "3                          False                      False           27975  \n",
       "4                          False                      False           30226  \n",
       "5                          False                      False           30912  \n",
       "6                          False                      False           36682  \n",
       "7                          False                      False           40312  \n",
       "8                          False                      False           40313  "
      ]
     },
     "execution_count": 14,
     "metadata": {},
     "output_type": "execute_result"
    }
   ],
   "source": [
    "pc.get_trip_data_issues(pogoh_df_cleaned, include_full_data=False)"
   ]
  },
  {
   "cell_type": "markdown",
   "id": "52545310",
   "metadata": {},
   "source": [
    "Here I illustrate the use of the functions with a synthetic dataset."
   ]
  },
  {
   "cell_type": "code",
   "execution_count": 15,
   "id": "bef24058",
   "metadata": {},
   "outputs": [],
   "source": [
    "df_fail = pd.DataFrame({\n",
    "    \"start_date\": [\n",
    "        \"2025-06-17 08:00:00\",  # OK\n",
    "        \"2025-06-17 10:00:00\",  # OK\n",
    "        None,                   # missing start timestamp\n",
    "        \"2025-06-17 12:00:00\",  # start after end\n",
    "        \"2015-01-01 08:00:00\",  # year/month out of range\n",
    "        \"2025-06-17 08:00:00\"   # OK\n",
    "    ],\n",
    "    \"end_date\": [\n",
    "        \"2025-06-17 08:05:00\",  # OK\n",
    "        \"2025-06-17 10:01:00\",  # duration mismatch\n",
    "        \"2025-06-17 11:00:00\",  # OK\n",
    "        \"2025-06-17 11:00:00\",  # end before start\n",
    "        \"2015-01-01 09:00:00\",  # year/month out of range\n",
    "        \"2025-06-18 08:01:00\"   # > 24 hours\n",
    "    ],\n",
    "    \"duration\": [\n",
    "        0,        # negative or zero\n",
    "        30,       # duration mismatch\n",
    "        3600,     # OK\n",
    "        300,      # OK\n",
    "        3600,     # OK but dates out of range\n",
    "        86500     # unrealistic (> 86400)\n",
    "    ]\n",
    "})\n"
   ]
  },
  {
   "cell_type": "code",
   "execution_count": 16,
   "id": "a6355cd4",
   "metadata": {},
   "outputs": [
    {
     "name": "stdout",
     "output_type": "stream",
     "text": [
      "Trip Data Validation Summary:\n",
      "-----------------------------------\n",
      "[FAIL]  Negative or zero duration: 1 issue(s) found.\n",
      "[FAIL]  Unrealistic duration: 1 issue(s) found.\n",
      "[FAIL]  Missing timestamps: 1 issue(s) found.\n",
      "[FAIL]  Start after end: 1 issue(s) found.\n",
      "[FAIL]  Datetime out of range: 2 issue(s) found.\n",
      "[FAIL]  Duration mismatch: 4 issue(s) found.\n",
      "-----------------------------------\n"
     ]
    }
   ],
   "source": [
    "summary_fail = pc.validate_trip_data(df_fail)\n",
    "pc.summarize_trip_validation(summary_fail)"
   ]
  },
  {
   "cell_type": "code",
   "execution_count": 17,
   "id": "dd365ecc",
   "metadata": {},
   "outputs": [
    {
     "data": {
      "text/html": [
       "<div>\n",
       "<style scoped>\n",
       "    .dataframe tbody tr th:only-of-type {\n",
       "        vertical-align: middle;\n",
       "    }\n",
       "\n",
       "    .dataframe tbody tr th {\n",
       "        vertical-align: top;\n",
       "    }\n",
       "\n",
       "    .dataframe thead th {\n",
       "        text-align: right;\n",
       "    }\n",
       "</style>\n",
       "<table border=\"1\" class=\"dataframe\">\n",
       "  <thead>\n",
       "    <tr style=\"text-align: right;\">\n",
       "      <th></th>\n",
       "      <th>start_date</th>\n",
       "      <th>end_date</th>\n",
       "      <th>duration</th>\n",
       "      <th>original_index</th>\n",
       "      <th>invalid_negative_or_zero_duration</th>\n",
       "      <th>invalid_unrealistic_duration</th>\n",
       "      <th>invalid_missing_timestamps</th>\n",
       "      <th>invalid_start_after_end</th>\n",
       "      <th>invalid_datetime_out_of_range</th>\n",
       "      <th>invalid_duration_mismatch</th>\n",
       "    </tr>\n",
       "  </thead>\n",
       "  <tbody>\n",
       "    <tr>\n",
       "      <th>0</th>\n",
       "      <td>2025-06-17 08:00:00</td>\n",
       "      <td>2025-06-17 08:05:00</td>\n",
       "      <td>0</td>\n",
       "      <td>0</td>\n",
       "      <td>True</td>\n",
       "      <td>False</td>\n",
       "      <td>False</td>\n",
       "      <td>False</td>\n",
       "      <td>False</td>\n",
       "      <td>True</td>\n",
       "    </tr>\n",
       "    <tr>\n",
       "      <th>1</th>\n",
       "      <td>2025-06-17 10:00:00</td>\n",
       "      <td>2025-06-17 10:01:00</td>\n",
       "      <td>30</td>\n",
       "      <td>1</td>\n",
       "      <td>False</td>\n",
       "      <td>False</td>\n",
       "      <td>False</td>\n",
       "      <td>False</td>\n",
       "      <td>False</td>\n",
       "      <td>True</td>\n",
       "    </tr>\n",
       "    <tr>\n",
       "      <th>2</th>\n",
       "      <td>None</td>\n",
       "      <td>2025-06-17 11:00:00</td>\n",
       "      <td>3600</td>\n",
       "      <td>2</td>\n",
       "      <td>False</td>\n",
       "      <td>False</td>\n",
       "      <td>True</td>\n",
       "      <td>False</td>\n",
       "      <td>True</td>\n",
       "      <td>False</td>\n",
       "    </tr>\n",
       "    <tr>\n",
       "      <th>3</th>\n",
       "      <td>2025-06-17 12:00:00</td>\n",
       "      <td>2025-06-17 11:00:00</td>\n",
       "      <td>300</td>\n",
       "      <td>3</td>\n",
       "      <td>False</td>\n",
       "      <td>False</td>\n",
       "      <td>False</td>\n",
       "      <td>True</td>\n",
       "      <td>False</td>\n",
       "      <td>True</td>\n",
       "    </tr>\n",
       "    <tr>\n",
       "      <th>4</th>\n",
       "      <td>2015-01-01 08:00:00</td>\n",
       "      <td>2015-01-01 09:00:00</td>\n",
       "      <td>3600</td>\n",
       "      <td>4</td>\n",
       "      <td>False</td>\n",
       "      <td>False</td>\n",
       "      <td>False</td>\n",
       "      <td>False</td>\n",
       "      <td>True</td>\n",
       "      <td>False</td>\n",
       "    </tr>\n",
       "    <tr>\n",
       "      <th>5</th>\n",
       "      <td>2025-06-17 08:00:00</td>\n",
       "      <td>2025-06-18 08:01:00</td>\n",
       "      <td>86500</td>\n",
       "      <td>5</td>\n",
       "      <td>False</td>\n",
       "      <td>True</td>\n",
       "      <td>False</td>\n",
       "      <td>False</td>\n",
       "      <td>False</td>\n",
       "      <td>True</td>\n",
       "    </tr>\n",
       "  </tbody>\n",
       "</table>\n",
       "</div>"
      ],
      "text/plain": [
       "            start_date             end_date  duration  original_index  \\\n",
       "0  2025-06-17 08:00:00  2025-06-17 08:05:00         0               0   \n",
       "1  2025-06-17 10:00:00  2025-06-17 10:01:00        30               1   \n",
       "2                 None  2025-06-17 11:00:00      3600               2   \n",
       "3  2025-06-17 12:00:00  2025-06-17 11:00:00       300               3   \n",
       "4  2015-01-01 08:00:00  2015-01-01 09:00:00      3600               4   \n",
       "5  2025-06-17 08:00:00  2025-06-18 08:01:00     86500               5   \n",
       "\n",
       "   invalid_negative_or_zero_duration  invalid_unrealistic_duration  \\\n",
       "0                               True                         False   \n",
       "1                              False                         False   \n",
       "2                              False                         False   \n",
       "3                              False                         False   \n",
       "4                              False                         False   \n",
       "5                              False                          True   \n",
       "\n",
       "   invalid_missing_timestamps  invalid_start_after_end  \\\n",
       "0                       False                    False   \n",
       "1                       False                    False   \n",
       "2                        True                    False   \n",
       "3                       False                     True   \n",
       "4                       False                    False   \n",
       "5                       False                    False   \n",
       "\n",
       "   invalid_datetime_out_of_range  invalid_duration_mismatch  \n",
       "0                          False                       True  \n",
       "1                          False                       True  \n",
       "2                           True                      False  \n",
       "3                          False                       True  \n",
       "4                           True                      False  \n",
       "5                          False                       True  "
      ]
     },
     "execution_count": 17,
     "metadata": {},
     "output_type": "execute_result"
    }
   ],
   "source": [
    "pc.get_trip_data_issues(df_fail)\n"
   ]
  },
  {
   "cell_type": "markdown",
   "id": "a4918a81",
   "metadata": {},
   "source": [
    "The function *clean_trip_data* optionally fixes the trips that have duration mismatch (using the start and end timestamp of the trip) and also drops the rows that have issues considered as unrecoverable (negative or zero duration, unrealistic duration, missing timestamps, start after end date, dates out of range). Without further knowledge, it's diffucult to complete the information for these rows."
   ]
  },
  {
   "cell_type": "code",
   "execution_count": 18,
   "id": "2023b014",
   "metadata": {},
   "outputs": [
    {
     "name": "stdout",
     "output_type": "stream",
     "text": [
      "Fixed duration in 0 row(s).\n",
      "Dropped 9 row(s) with unrecoverable issues.\n"
     ]
    }
   ],
   "source": [
    "pogoh_df_cleaned = pc.clean_trip_data(pogoh_df_cleaned)"
   ]
  },
  {
   "cell_type": "code",
   "execution_count": null,
   "id": "1acd3fcf",
   "metadata": {},
   "outputs": [
    {
     "name": "stdout",
     "output_type": "stream",
     "text": [
      "Fixed duration in 3 row(s).\n",
      "Dropped 4 row(s) with unrecoverable issues.\n"
     ]
    },
    {
     "data": {
      "text/html": [
       "<div>\n",
       "<style scoped>\n",
       "    .dataframe tbody tr th:only-of-type {\n",
       "        vertical-align: middle;\n",
       "    }\n",
       "\n",
       "    .dataframe tbody tr th {\n",
       "        vertical-align: top;\n",
       "    }\n",
       "\n",
       "    .dataframe thead th {\n",
       "        text-align: right;\n",
       "    }\n",
       "</style>\n",
       "<table border=\"1\" class=\"dataframe\">\n",
       "  <thead>\n",
       "    <tr style=\"text-align: right;\">\n",
       "      <th></th>\n",
       "      <th>start_date</th>\n",
       "      <th>end_date</th>\n",
       "      <th>duration</th>\n",
       "      <th>original_index</th>\n",
       "    </tr>\n",
       "  </thead>\n",
       "  <tbody>\n",
       "    <tr>\n",
       "      <th>0</th>\n",
       "      <td>2025-06-17 09:00:00</td>\n",
       "      <td>2025-06-17 12:00:00</td>\n",
       "      <td>10800</td>\n",
       "      <td>1</td>\n",
       "    </tr>\n",
       "    <tr>\n",
       "      <th>1</th>\n",
       "      <td>2025-06-17 15:00:00</td>\n",
       "      <td>2025-06-17 15:10:00</td>\n",
       "      <td>600</td>\n",
       "      <td>5</td>\n",
       "    </tr>\n",
       "    <tr>\n",
       "      <th>2</th>\n",
       "      <td>2025-06-17 16:00:00</td>\n",
       "      <td>2025-06-17 16:30:00</td>\n",
       "      <td>1800</td>\n",
       "      <td>6</td>\n",
       "    </tr>\n",
       "  </tbody>\n",
       "</table>\n",
       "</div>"
      ],
      "text/plain": [
       "            start_date             end_date  duration  original_index\n",
       "0  2025-06-17 09:00:00  2025-06-17 12:00:00     10800               1\n",
       "1  2025-06-17 15:00:00  2025-06-17 15:10:00       600               5\n",
       "2  2025-06-17 16:00:00  2025-06-17 16:30:00      1800               6"
      ]
     },
     "execution_count": 19,
     "metadata": {},
     "output_type": "execute_result"
    }
   ],
   "source": [
    "# Create a dataset where different problems exist\n",
    "df_test_cleaning = pd.DataFrame({\n",
    "    \"start_date\": [\n",
    "        \"2025-06-17 08:00:00\",  # zero duration\n",
    "        \"2025-06-17 09:00:00\",  # unrealistic duration\n",
    "        None,                   # missing timestamp\n",
    "        \"2025-06-17 12:00:00\",  # start after end\n",
    "        \"2010-06-17 08:00:00\",  # datetime out of range\n",
    "        \"2025-06-17 15:00:00\",  # duration mismatch (duration too small)\n",
    "        \"2025-06-17 16:00:00\"   # clean row\n",
    "    ],\n",
    "    \"end_date\": [\n",
    "        \"2025-06-17 08:00:00\",  # zero duration\n",
    "        \"2025-06-17 12:00:00\",  # long duration (10800 sec = 3 hours)\n",
    "        \"2025-06-17 11:00:00\",  # missing start\n",
    "        \"2025-06-17 11:00:00\",  # end before start\n",
    "        \"2010-06-17 09:00:00\",  # datetime out of range\n",
    "        \"2025-06-17 15:10:00\",  # 600 sec duration (but says 100 sec)\n",
    "        \"2025-06-17 16:30:00\"   # clean row\n",
    "    ],\n",
    "    \"duration\": [\n",
    "        0,          # zero\n",
    "        100000,     # unrealistic\n",
    "        3600,       # OK duration but missing timestamp\n",
    "        300,        # would be invalid (start after end)\n",
    "        3600,       # out of range datetime\n",
    "        100,        # mismatch (true is 600 sec)\n",
    "        1800        # valid\n",
    "    ]\n",
    "})\n",
    "\n",
    "pc.clean_trip_data(df_test_cleaning)"
   ]
  },
  {
   "cell_type": "markdown",
   "id": "185b66fb",
   "metadata": {},
   "source": [
    "Add *flag_trip_outliers* information"
   ]
  },
  {
   "cell_type": "code",
   "execution_count": 20,
   "id": "e90027b8",
   "metadata": {},
   "outputs": [
    {
     "data": {
      "text/html": [
       "<div>\n",
       "<style scoped>\n",
       "    .dataframe tbody tr th:only-of-type {\n",
       "        vertical-align: middle;\n",
       "    }\n",
       "\n",
       "    .dataframe tbody tr th {\n",
       "        vertical-align: top;\n",
       "    }\n",
       "\n",
       "    .dataframe thead th {\n",
       "        text-align: right;\n",
       "    }\n",
       "</style>\n",
       "<table border=\"1\" class=\"dataframe\">\n",
       "  <thead>\n",
       "    <tr style=\"text-align: right;\">\n",
       "      <th></th>\n",
       "      <th>start_date</th>\n",
       "      <th>end_date</th>\n",
       "      <th>duration</th>\n",
       "      <th>is_short_duration_outlier</th>\n",
       "      <th>is_long_duration_outlier</th>\n",
       "    </tr>\n",
       "  </thead>\n",
       "  <tbody>\n",
       "    <tr>\n",
       "      <th>0</th>\n",
       "      <td>2025-06-17 08:00:00</td>\n",
       "      <td>2025-06-17 08:00:00</td>\n",
       "      <td>0</td>\n",
       "      <td>True</td>\n",
       "      <td>False</td>\n",
       "    </tr>\n",
       "    <tr>\n",
       "      <th>1</th>\n",
       "      <td>2025-06-17 09:00:00</td>\n",
       "      <td>2025-06-17 12:00:00</td>\n",
       "      <td>100000</td>\n",
       "      <td>False</td>\n",
       "      <td>True</td>\n",
       "    </tr>\n",
       "    <tr>\n",
       "      <th>2</th>\n",
       "      <td>None</td>\n",
       "      <td>2025-06-17 11:00:00</td>\n",
       "      <td>3600</td>\n",
       "      <td>False</td>\n",
       "      <td>False</td>\n",
       "    </tr>\n",
       "    <tr>\n",
       "      <th>3</th>\n",
       "      <td>2025-06-17 12:00:00</td>\n",
       "      <td>2025-06-17 11:00:00</td>\n",
       "      <td>300</td>\n",
       "      <td>False</td>\n",
       "      <td>False</td>\n",
       "    </tr>\n",
       "    <tr>\n",
       "      <th>4</th>\n",
       "      <td>2010-06-17 08:00:00</td>\n",
       "      <td>2010-06-17 09:00:00</td>\n",
       "      <td>3600</td>\n",
       "      <td>False</td>\n",
       "      <td>False</td>\n",
       "    </tr>\n",
       "    <tr>\n",
       "      <th>5</th>\n",
       "      <td>2025-06-17 15:00:00</td>\n",
       "      <td>2025-06-17 15:10:00</td>\n",
       "      <td>100</td>\n",
       "      <td>False</td>\n",
       "      <td>False</td>\n",
       "    </tr>\n",
       "    <tr>\n",
       "      <th>6</th>\n",
       "      <td>2025-06-17 16:00:00</td>\n",
       "      <td>2025-06-17 16:30:00</td>\n",
       "      <td>1800</td>\n",
       "      <td>False</td>\n",
       "      <td>False</td>\n",
       "    </tr>\n",
       "  </tbody>\n",
       "</table>\n",
       "</div>"
      ],
      "text/plain": [
       "            start_date             end_date  duration  \\\n",
       "0  2025-06-17 08:00:00  2025-06-17 08:00:00         0   \n",
       "1  2025-06-17 09:00:00  2025-06-17 12:00:00    100000   \n",
       "2                 None  2025-06-17 11:00:00      3600   \n",
       "3  2025-06-17 12:00:00  2025-06-17 11:00:00       300   \n",
       "4  2010-06-17 08:00:00  2010-06-17 09:00:00      3600   \n",
       "5  2025-06-17 15:00:00  2025-06-17 15:10:00       100   \n",
       "6  2025-06-17 16:00:00  2025-06-17 16:30:00      1800   \n",
       "\n",
       "   is_short_duration_outlier  is_long_duration_outlier  \n",
       "0                       True                     False  \n",
       "1                      False                      True  \n",
       "2                      False                     False  \n",
       "3                      False                     False  \n",
       "4                      False                     False  \n",
       "5                      False                     False  \n",
       "6                      False                     False  "
      ]
     },
     "execution_count": 20,
     "metadata": {},
     "output_type": "execute_result"
    }
   ],
   "source": [
    "df_flag_test = pc.flag_trip_outliers(df_test_cleaning)\n",
    "df_flag_test"
   ]
  },
  {
   "cell_type": "code",
   "execution_count": 21,
   "id": "6ea2615a",
   "metadata": {},
   "outputs": [
    {
     "name": "stdout",
     "output_type": "stream",
     "text": [
      "Trip Outlier Summary:\n",
      "------------------------------\n",
      "[FLAG] Short duration outliers: 1\n",
      "[FLAG] Long duration outliers: 1\n",
      "------------------------------\n"
     ]
    }
   ],
   "source": [
    "pc.summarize_trip_outliers(df_flag_test)"
   ]
  },
  {
   "cell_type": "markdown",
   "id": "a17379fa",
   "metadata": {},
   "source": [
    "Add *add_time_features* information"
   ]
  },
  {
   "cell_type": "code",
   "execution_count": 22,
   "id": "9cf156e7",
   "metadata": {},
   "outputs": [
    {
     "data": {
      "text/html": [
       "<div>\n",
       "<style scoped>\n",
       "    .dataframe tbody tr th:only-of-type {\n",
       "        vertical-align: middle;\n",
       "    }\n",
       "\n",
       "    .dataframe tbody tr th {\n",
       "        vertical-align: top;\n",
       "    }\n",
       "\n",
       "    .dataframe thead th {\n",
       "        text-align: right;\n",
       "    }\n",
       "</style>\n",
       "<table border=\"1\" class=\"dataframe\">\n",
       "  <thead>\n",
       "    <tr style=\"text-align: right;\">\n",
       "      <th></th>\n",
       "      <th>start_date</th>\n",
       "      <th>end_date</th>\n",
       "      <th>duration</th>\n",
       "      <th>trip_duration_min</th>\n",
       "      <th>start_hour</th>\n",
       "      <th>end_hour</th>\n",
       "      <th>start_weekday</th>\n",
       "      <th>is_weekend</th>\n",
       "    </tr>\n",
       "  </thead>\n",
       "  <tbody>\n",
       "    <tr>\n",
       "      <th>0</th>\n",
       "      <td>2025-06-17 08:00:00</td>\n",
       "      <td>2025-06-17 08:00:00</td>\n",
       "      <td>0</td>\n",
       "      <td>0.000000</td>\n",
       "      <td>8.0</td>\n",
       "      <td>8</td>\n",
       "      <td>1.0</td>\n",
       "      <td>False</td>\n",
       "    </tr>\n",
       "    <tr>\n",
       "      <th>1</th>\n",
       "      <td>2025-06-17 09:00:00</td>\n",
       "      <td>2025-06-17 12:00:00</td>\n",
       "      <td>100000</td>\n",
       "      <td>1666.666667</td>\n",
       "      <td>9.0</td>\n",
       "      <td>12</td>\n",
       "      <td>1.0</td>\n",
       "      <td>False</td>\n",
       "    </tr>\n",
       "    <tr>\n",
       "      <th>2</th>\n",
       "      <td>None</td>\n",
       "      <td>2025-06-17 11:00:00</td>\n",
       "      <td>3600</td>\n",
       "      <td>60.000000</td>\n",
       "      <td>NaN</td>\n",
       "      <td>11</td>\n",
       "      <td>NaN</td>\n",
       "      <td>False</td>\n",
       "    </tr>\n",
       "    <tr>\n",
       "      <th>3</th>\n",
       "      <td>2025-06-17 12:00:00</td>\n",
       "      <td>2025-06-17 11:00:00</td>\n",
       "      <td>300</td>\n",
       "      <td>5.000000</td>\n",
       "      <td>12.0</td>\n",
       "      <td>11</td>\n",
       "      <td>1.0</td>\n",
       "      <td>False</td>\n",
       "    </tr>\n",
       "    <tr>\n",
       "      <th>4</th>\n",
       "      <td>2010-06-17 08:00:00</td>\n",
       "      <td>2010-06-17 09:00:00</td>\n",
       "      <td>3600</td>\n",
       "      <td>60.000000</td>\n",
       "      <td>8.0</td>\n",
       "      <td>9</td>\n",
       "      <td>3.0</td>\n",
       "      <td>False</td>\n",
       "    </tr>\n",
       "    <tr>\n",
       "      <th>5</th>\n",
       "      <td>2025-06-17 15:00:00</td>\n",
       "      <td>2025-06-17 15:10:00</td>\n",
       "      <td>100</td>\n",
       "      <td>1.666667</td>\n",
       "      <td>15.0</td>\n",
       "      <td>15</td>\n",
       "      <td>1.0</td>\n",
       "      <td>False</td>\n",
       "    </tr>\n",
       "    <tr>\n",
       "      <th>6</th>\n",
       "      <td>2025-06-17 16:00:00</td>\n",
       "      <td>2025-06-17 16:30:00</td>\n",
       "      <td>1800</td>\n",
       "      <td>30.000000</td>\n",
       "      <td>16.0</td>\n",
       "      <td>16</td>\n",
       "      <td>1.0</td>\n",
       "      <td>False</td>\n",
       "    </tr>\n",
       "  </tbody>\n",
       "</table>\n",
       "</div>"
      ],
      "text/plain": [
       "            start_date             end_date  duration  trip_duration_min  \\\n",
       "0  2025-06-17 08:00:00  2025-06-17 08:00:00         0           0.000000   \n",
       "1  2025-06-17 09:00:00  2025-06-17 12:00:00    100000        1666.666667   \n",
       "2                 None  2025-06-17 11:00:00      3600          60.000000   \n",
       "3  2025-06-17 12:00:00  2025-06-17 11:00:00       300           5.000000   \n",
       "4  2010-06-17 08:00:00  2010-06-17 09:00:00      3600          60.000000   \n",
       "5  2025-06-17 15:00:00  2025-06-17 15:10:00       100           1.666667   \n",
       "6  2025-06-17 16:00:00  2025-06-17 16:30:00      1800          30.000000   \n",
       "\n",
       "   start_hour  end_hour  start_weekday  is_weekend  \n",
       "0         8.0         8            1.0       False  \n",
       "1         9.0        12            1.0       False  \n",
       "2         NaN        11            NaN       False  \n",
       "3        12.0        11            1.0       False  \n",
       "4         8.0         9            3.0       False  \n",
       "5        15.0        15            1.0       False  \n",
       "6        16.0        16            1.0       False  "
      ]
     },
     "execution_count": 22,
     "metadata": {},
     "output_type": "execute_result"
    }
   ],
   "source": [
    "pc.add_time_features(df_test_cleaning)"
   ]
  }
 ],
 "metadata": {
  "kernelspec": {
   "display_name": "pogoh_ai",
   "language": "python",
   "name": "python3"
  },
  "language_info": {
   "codemirror_mode": {
    "name": "ipython",
    "version": 3
   },
   "file_extension": ".py",
   "mimetype": "text/x-python",
   "name": "python",
   "nbconvert_exporter": "python",
   "pygments_lexer": "ipython3",
   "version": "3.11.12"
  }
 },
 "nbformat": 4,
 "nbformat_minor": 5
}
